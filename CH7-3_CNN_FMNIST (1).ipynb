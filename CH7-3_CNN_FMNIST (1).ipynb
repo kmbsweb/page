{
 "cells": [
  {
   "cell_type": "markdown",
   "metadata": {},
   "source": [
    "### 2．学習データの準備"
   ]
  },
  {
   "cell_type": "code",
   "execution_count": null,
   "metadata": {
    "collapsed": true
   },
   "outputs": [],
   "source": [
    "# PyTorchライブラリの読み込み\n",
    "import torch\n",
    "from torch.autograd import Variable\n",
    "import torch.nn as nn\n",
    "import torch.nn.functional as F\n",
    "import torch.optim as optim\n",
    "from torch.utils.data import DataLoader, TensorDataset\n",
    "\n",
    "# gzipライブラリの読み込み\n",
    "import gzip\n",
    "# Numpyライブラリの読み込み\n",
    "import numpy as np\n",
    "# Pandasライブラリの読み込み\n",
    "import pandas as pd\n",
    "# Scikit-learnライブラリの読み込み\n",
    "from sklearn import datasets, model_selection\n",
    "\n",
    "# Matplotlibライブラリの読み込み\n",
    "from matplotlib import pyplot as plt\n",
    "from matplotlib import cm\n",
    "%matplotlib inline"
   ]
  },
  {
   "cell_type": "code",
   "execution_count": null,
   "metadata": {
    "collapsed": true,
    "scrolled": true
   },
   "outputs": [],
   "source": [
    "# FASHION-MNISTデータセットの読込\n",
    "with gzip.open('./data/fashion-mnist/train-images-idx3-ubyte.gz', 'rb') as f:\n",
    "    mnist_data = np.frombuffer(f.read(), np.uint8, offset=16)\n",
    "    mnist_data = mnist_data.reshape(-1, 784)"
   ]
  },
  {
   "cell_type": "code",
   "execution_count": null,
   "metadata": {
    "scrolled": true
   },
   "outputs": [],
   "source": [
    "# 説明変数を正規化して格納\n",
    "mnist_data = mnist_data / 255\n",
    "\n",
    "# データフレーム形式で説明変数を表示\n",
    "pd.DataFrame(mnist_data)"
   ]
  },
  {
   "cell_type": "code",
   "execution_count": null,
   "metadata": {
    "scrolled": true
   },
   "outputs": [],
   "source": [
    "# 1枚目の画像を表示\n",
    "plt.imshow(mnist_data[0].reshape(28, 28), cmap=cm.gray_r)\n",
    "plt.show()"
   ]
  },
  {
   "cell_type": "code",
   "execution_count": null,
   "metadata": {},
   "outputs": [],
   "source": [
    "# 目的変数の格納と表示\n",
    "with gzip.open('./data/fashion-mnist/train-labels-idx1-ubyte.gz', 'rb') as f:\n",
    "    mnist_label = np.frombuffer(f.read(), np.uint8, offset=8)\n",
    "\n",
    "mnist_label"
   ]
  },
  {
   "cell_type": "code",
   "execution_count": null,
   "metadata": {
    "collapsed": true
   },
   "outputs": [],
   "source": [
    "# 訓練データのサイズ\n",
    "train_size = 5000\n",
    "# テストデータのサイズ\n",
    "test_size = 500\n",
    "\n",
    "# データセットを訓練用とテスト用に分割\n",
    "train_X, test_X, train_Y, test_Y = model_selection.train_test_split(\n",
    "    mnist_data, mnist_label, train_size=train_size,test_size=test_size)"
   ]
  },
  {
   "cell_type": "code",
   "execution_count": null,
   "metadata": {
    "collapsed": true
   },
   "outputs": [],
   "source": [
    "# 784の1次元配列を28×28の2次元配列へリサイズ\n",
    "train_X = train_X.reshape((len(train_X), 1, 28, 28))\n",
    "test_X = test_X.reshape((len(test_X), 1, 28, 28))"
   ]
  },
  {
   "cell_type": "markdown",
   "metadata": {},
   "source": [
    "### 3．テンソルの作成"
   ]
  },
  {
   "cell_type": "code",
   "execution_count": null,
   "metadata": {},
   "outputs": [],
   "source": [
    "# 訓練用のテンソル作成\n",
    "train_X = torch.from_numpy(train_X).float()\n",
    "train_Y = torch.from_numpy(train_Y).long()\n",
    "\n",
    "# テスト用のテンソル作成\n",
    "test_X = torch.from_numpy(test_X).float()\n",
    "test_Y = torch.from_numpy(test_Y).long()\n",
    "\n",
    "# テンソルのサイズを表示\n",
    "print(train_X.shape)\n",
    "print(train_Y.shape)"
   ]
  },
  {
   "cell_type": "code",
   "execution_count": null,
   "metadata": {},
   "outputs": [],
   "source": [
    "# 説明変数と目的変数のテンソルをまとめる\n",
    "train = TensorDataset(train_X, train_Y)\n",
    "\n",
    "# 1つ目のテンソルを確認\n",
    "print(train[0])\n",
    "\n",
    "# ミニバッチに分ける\n",
    "train_loader = DataLoader(train, batch_size=100, shuffle=True)"
   ]
  },
  {
   "cell_type": "markdown",
   "metadata": {},
   "source": [
    "### 4．ネットワークの作成"
   ]
  },
  {
   "cell_type": "code",
   "execution_count": null,
   "metadata": {
    "collapsed": true
   },
   "outputs": [],
   "source": [
    "# ネットワークの作成\n",
    "class Net(nn.Module):\n",
    "    def __init__(self):\n",
    "        super(Net, self).__init__()\n",
    "        # 畳み込み層\n",
    "        self.conv1 = nn.Conv2d(1, 6, 5) # 入力チャンネル数、出力チャンネル数、フィルタサイズ\n",
    "        self.conv2 = nn.Conv2d(6, 16, 5)\n",
    "        # 全結合層\n",
    "        self.fc1 = nn.Linear(256, 64) # 256 = (((28-5+1)/2 )-5+1)/2 * (((28-5+1)/2 )-5+1)/2 * 16\n",
    "        self.fc2 = nn.Linear(64, 10)\n",
    "    \n",
    "    def forward(self, x):\n",
    "        # プーリング層\n",
    "        x = F.max_pool2d(F.relu(self.conv1(x)), 2) # 領域サイズ\n",
    "        x = F.max_pool2d(F.relu(self.conv2(x)), 2)\n",
    "        x = x.view(-1, 256)\n",
    "        x = F.relu(self.fc1(x))\n",
    "        x = self.fc2(x)\n",
    "        return F.log_softmax(x)\n",
    "    \n",
    "# インスタンスの生成\n",
    "model = Net()"
   ]
  },
  {
   "cell_type": "markdown",
   "metadata": {},
   "source": [
    "### 5．モデルの学習"
   ]
  },
  {
   "cell_type": "code",
   "execution_count": null,
   "metadata": {},
   "outputs": [],
   "source": [
    "# 誤差関数のセット\n",
    "criterion = nn.CrossEntropyLoss()\n",
    "\n",
    "# 最適化関数のセット\n",
    "optimizer = optim.SGD(model.parameters(), lr=0.01)\n",
    "\n",
    "# 学習開始\n",
    "for epoch in range(1000):\n",
    "    total_loss = 0\n",
    "    # 分割したデータの取り出し\n",
    "    for train_x, train_y in train_loader:\n",
    "        # 計算グラフの構築\n",
    "        train_x, train_y = Variable(train_x), Variable(train_y)\n",
    "        # 勾配をリセットする\n",
    "        optimizer.zero_grad()\n",
    "        # 順伝播の計算\n",
    "        output = model(train_x)\n",
    "        # 誤差の計算\n",
    "        loss = criterion(output, train_y)\n",
    "        # 逆伝播の計算\n",
    "        loss.backward()\n",
    "        # 重みの更新\n",
    "        optimizer.step()\n",
    "        # 誤差の累積\n",
    "        total_loss += loss.data[0]\n",
    "    # 累積誤差を100回ごとに表示    \n",
    "    if (epoch+1) % 100 == 0:\n",
    "        print(epoch+1, total_loss)"
   ]
  },
  {
   "cell_type": "code",
   "execution_count": null,
   "metadata": {},
   "outputs": [],
   "source": [
    "# 計算グラフの構築\n",
    "test_x, test_y = Variable(test_X), Variable(test_Y)\n",
    "# 出力が0と1のどちらか\n",
    "result = torch.max(model(test_x).data, 1)[1]\n",
    "# モデルの精度を計算\n",
    "accuracy = sum(test_y.data.numpy() == result.numpy()) / len(test_y.data.numpy())\n",
    "\n",
    "# モデルの精度を表示\n",
    "accuracy"
   ]
  }
 ],
 "metadata": {
  "kernelspec": {
   "display_name": "Python 3",
   "language": "python",
   "name": "python3"
  },
  "language_info": {
   "codemirror_mode": {
    "name": "ipython",
    "version": 3
   },
   "file_extension": ".py",
   "mimetype": "text/x-python",
   "name": "python",
   "nbconvert_exporter": "python",
   "pygments_lexer": "ipython3",
   "version": "3.6.2"
  }
 },
 "nbformat": 4,
 "nbformat_minor": 2
}
